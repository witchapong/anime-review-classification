{
 "cells": [
  {
   "cell_type": "code",
   "execution_count": 154,
   "metadata": {},
   "outputs": [],
   "source": [
    "import numpy as np\n",
    "import pandas as pd\n",
    "from fastai.text.all import *\n",
    "import fastai\n",
    "print(fastai.__version__)\n",
    "import matplotlib.pyplot as plt\n",
    "from ipywidgets import interact"
   ]
  },
  {
   "cell_type": "markdown",
   "metadata": {},
   "source": [
    "# Objective\n",
    "- Classify review rating of Anime based text review using the dataset [MAL Top 10k Anime](https://www.kaggle.com/stoicstatic/mal-top-10k-anime-details?select=MAL+Anime+Top+10000+Details.csv)\n",
    "- Utilize transfer learning for text classification task using fastai library"
   ]
  },
  {
   "cell_type": "markdown",
   "metadata": {},
   "source": [
    "# Data exploration"
   ]
  },
  {
   "cell_type": "code",
   "execution_count": 157,
   "metadata": {},
   "outputs": [],
   "source": [
    "reviews = pd.read_csv(\"/kaggle/input/mal-top-10k-anime-details/MAL Anime Reviews 85k.csv\")"
   ]
  },
  {
   "cell_type": "code",
   "execution_count": 158,
   "metadata": {},
   "outputs": [
    {
     "data": {
      "text/html": [
       "<div>\n",
       "<style scoped>\n",
       "    .dataframe tbody tr th:only-of-type {\n",
       "        vertical-align: middle;\n",
       "    }\n",
       "\n",
       "    .dataframe tbody tr th {\n",
       "        vertical-align: top;\n",
       "    }\n",
       "\n",
       "    .dataframe thead th {\n",
       "        text-align: right;\n",
       "    }\n",
       "</style>\n",
       "<table border=\"1\" class=\"dataframe\">\n",
       "  <thead>\n",
       "    <tr style=\"text-align: right;\">\n",
       "      <th></th>\n",
       "      <th>Anime Rank</th>\n",
       "      <th>Anime Title</th>\n",
       "      <th>Anime URL</th>\n",
       "      <th>Username</th>\n",
       "      <th>Review Date</th>\n",
       "      <th>Episodes Watched</th>\n",
       "      <th>Review Likes</th>\n",
       "      <th>Overall Rating</th>\n",
       "      <th>Story Rating</th>\n",
       "      <th>Animation Rating</th>\n",
       "      <th>Sound Rating</th>\n",
       "      <th>Character Rating</th>\n",
       "      <th>Enjoyment Rating</th>\n",
       "      <th>Review</th>\n",
       "    </tr>\n",
       "  </thead>\n",
       "  <tbody>\n",
       "    <tr>\n",
       "      <th>0</th>\n",
       "      <td>1</td>\n",
       "      <td>Fullmetal Alchemist: Brotherhood</td>\n",
       "      <td>https://myanimelist.net/anime/5114/Fullmetal_Alchemist__Brotherhood/reviews</td>\n",
       "      <td>tazillo</td>\n",
       "      <td>Jan 25, 2010</td>\n",
       "      <td>64 of 64 episodes seen</td>\n",
       "      <td>3464</td>\n",
       "      <td>10</td>\n",
       "      <td>10</td>\n",
       "      <td>9</td>\n",
       "      <td>9</td>\n",
       "      <td>10</td>\n",
       "      <td>10</td>\n",
       "      <td>First of all, I have seen the original FMA and although it was very popular and original, the pacing and conclusion did not sit too well with me. Brotherhood is meant to be a remake of the original, this time sticking to the manga all the way through, but there were people who thought it would spoil the franchise. That myth should be dispelled, as there's only one word to describe this series - EPIC.\\nI admit that as I've seen the original and read the manga, the pacing of Brotherhood seems to start off being VERY fast (I finally got used to the pacing after\\nwatching the first fifteen eps...</td>\n",
       "    </tr>\n",
       "    <tr>\n",
       "      <th>1</th>\n",
       "      <td>1</td>\n",
       "      <td>Fullmetal Alchemist: Brotherhood</td>\n",
       "      <td>https://myanimelist.net/anime/5114/Fullmetal_Alchemist__Brotherhood/reviews</td>\n",
       "      <td>Archaeon</td>\n",
       "      <td>Nov 15, 2010</td>\n",
       "      <td>64 of 64 episodes seen</td>\n",
       "      <td>1311</td>\n",
       "      <td>9</td>\n",
       "      <td>8</td>\n",
       "      <td>9</td>\n",
       "      <td>9</td>\n",
       "      <td>9</td>\n",
       "      <td>9</td>\n",
       "      <td>Adaptations have long been a thorn in the side of anime viewers, but not because they are inherently bad. No, the main problem has been that many studios have regarded the original work almost as an afterthought, and there are a number of shows that could have been wonderful if the writers had simply stuck to the original story.\\nOne of the issues at hand seems to be ownership as producers, writers and directors all seem to want the work to be reflective of their style and perception, and in order to stamp their mark on a show they will makes numerous unnecessary changes or additions.\\nAdm...</td>\n",
       "    </tr>\n",
       "    <tr>\n",
       "      <th>2</th>\n",
       "      <td>1</td>\n",
       "      <td>Fullmetal Alchemist: Brotherhood</td>\n",
       "      <td>https://myanimelist.net/anime/5114/Fullmetal_Alchemist__Brotherhood/reviews</td>\n",
       "      <td>ChristopherKClaw</td>\n",
       "      <td>Apr 7, 2015</td>\n",
       "      <td>64 of 64 episodes seen</td>\n",
       "      <td>1113</td>\n",
       "      <td>7</td>\n",
       "      <td>8</td>\n",
       "      <td>8</td>\n",
       "      <td>10</td>\n",
       "      <td>6</td>\n",
       "      <td>7</td>\n",
       "      <td>Fullmetal Alchemist: Brotherhood gets an immense amount of praise in the MAL community, is the #1 ranked show and is constantly referred to as a masterpiece and the greatest show ever created. I've seen many fans preach about how \"it lives up to the hype\" and \"can never receive too much praise\". Now this is just the opinion of one guy. I'm certainly not the law of the land or anything. However, I personally feel as though calling FMA:B a masterpiece and the champion of all shows is a bit of a stretch. That's not to say that I didn't enjoy it or that it\\nisn't a very solid addition to the r...</td>\n",
       "    </tr>\n",
       "    <tr>\n",
       "      <th>3</th>\n",
       "      <td>1</td>\n",
       "      <td>Fullmetal Alchemist: Brotherhood</td>\n",
       "      <td>https://myanimelist.net/anime/5114/Fullmetal_Alchemist__Brotherhood/reviews</td>\n",
       "      <td>literaturenerd</td>\n",
       "      <td>Apr 25, 2015</td>\n",
       "      <td>64 of 64 episodes seen</td>\n",
       "      <td>704</td>\n",
       "      <td>7</td>\n",
       "      <td>8</td>\n",
       "      <td>8</td>\n",
       "      <td>8</td>\n",
       "      <td>8</td>\n",
       "      <td>8</td>\n",
       "      <td>Overview:\\nFMA Brotherhood is an anime that needs no introduction. This is the highest rated anime on all of MAL. This is the anime that the current generation of anime fans holds above all others as the greatest single anime EVER made! In the following paragraphs, I will be reviewing this legendary series and discussing whether or not it truly deserves this title.\\nSPOILERS for both Brotherhood and 2003 FMA!!!!\\nPlot:\\nThe plot takes place in the country of Armestris, which is basically like an alternate WW2 Germany. It is constantly at war for reasons that are less than just and is ruled...</td>\n",
       "    </tr>\n",
       "    <tr>\n",
       "      <th>4</th>\n",
       "      <td>1</td>\n",
       "      <td>Fullmetal Alchemist: Brotherhood</td>\n",
       "      <td>https://myanimelist.net/anime/5114/Fullmetal_Alchemist__Brotherhood/reviews</td>\n",
       "      <td>M0nkeyD_Luffy</td>\n",
       "      <td>Jul 29, 2015</td>\n",
       "      <td>64 of 64 episodes seen</td>\n",
       "      <td>446</td>\n",
       "      <td>5</td>\n",
       "      <td>2</td>\n",
       "      <td>7</td>\n",
       "      <td>7</td>\n",
       "      <td>8</td>\n",
       "      <td>5</td>\n",
       "      <td>Since I couldn't find any legitimate objective analysis in any of these fanboy reviews, I decided put my own review:\\nHere's why FMA:B and it's Manga counterpart don't work:\\nIt's just a disjointed piece of art. The initial premise of the narrative: two young siblings that horrifically lose their mother and parts of themselves is incredibly dark and powerfully poignant. Their journey to find the philosophers stone is one that's objectively adventurous but the endpoint is still inherently adult and sophisticatedly gritty; especially as it delves into the implications of bringing a dead pers...</td>\n",
       "    </tr>\n",
       "  </tbody>\n",
       "</table>\n",
       "</div>"
      ],
      "text/plain": [
       "   Anime Rank                       Anime Title  \\\n",
       "0           1  Fullmetal Alchemist: Brotherhood   \n",
       "1           1  Fullmetal Alchemist: Brotherhood   \n",
       "2           1  Fullmetal Alchemist: Brotherhood   \n",
       "3           1  Fullmetal Alchemist: Brotherhood   \n",
       "4           1  Fullmetal Alchemist: Brotherhood   \n",
       "\n",
       "                                                                     Anime URL  \\\n",
       "0  https://myanimelist.net/anime/5114/Fullmetal_Alchemist__Brotherhood/reviews   \n",
       "1  https://myanimelist.net/anime/5114/Fullmetal_Alchemist__Brotherhood/reviews   \n",
       "2  https://myanimelist.net/anime/5114/Fullmetal_Alchemist__Brotherhood/reviews   \n",
       "3  https://myanimelist.net/anime/5114/Fullmetal_Alchemist__Brotherhood/reviews   \n",
       "4  https://myanimelist.net/anime/5114/Fullmetal_Alchemist__Brotherhood/reviews   \n",
       "\n",
       "           Username   Review Date        Episodes Watched  Review Likes  \\\n",
       "0           tazillo  Jan 25, 2010  64 of 64 episodes seen          3464   \n",
       "1          Archaeon  Nov 15, 2010  64 of 64 episodes seen          1311   \n",
       "2  ChristopherKClaw   Apr 7, 2015  64 of 64 episodes seen          1113   \n",
       "3    literaturenerd  Apr 25, 2015  64 of 64 episodes seen           704   \n",
       "4     M0nkeyD_Luffy  Jul 29, 2015  64 of 64 episodes seen           446   \n",
       "\n",
       "   Overall Rating  Story Rating  Animation Rating  Sound Rating  \\\n",
       "0              10            10                 9             9   \n",
       "1               9             8                 9             9   \n",
       "2               7             8                 8            10   \n",
       "3               7             8                 8             8   \n",
       "4               5             2                 7             7   \n",
       "\n",
       "   Character Rating  Enjoyment Rating  \\\n",
       "0                10                10   \n",
       "1                 9                 9   \n",
       "2                 6                 7   \n",
       "3                 8                 8   \n",
       "4                 8                 5   \n",
       "\n",
       "                                                                                                                                                                                                                                                                                                                                                                                                                                                                                                                                                                                                                    Review  \n",
       "0  First of all, I have seen the original FMA and although it was very popular and original, the pacing and conclusion did not sit too well with me. Brotherhood is meant to be a remake of the original, this time sticking to the manga all the way through, but there were people who thought it would spoil the franchise. That myth should be dispelled, as there's only one word to describe this series - EPIC.\\nI admit that as I've seen the original and read the manga, the pacing of Brotherhood seems to start off being VERY fast (I finally got used to the pacing after\\nwatching the first fifteen eps...  \n",
       "1  Adaptations have long been a thorn in the side of anime viewers, but not because they are inherently bad. No, the main problem has been that many studios have regarded the original work almost as an afterthought, and there are a number of shows that could have been wonderful if the writers had simply stuck to the original story.\\nOne of the issues at hand seems to be ownership as producers, writers and directors all seem to want the work to be reflective of their style and perception, and in order to stamp their mark on a show they will makes numerous unnecessary changes or additions.\\nAdm...  \n",
       "2  Fullmetal Alchemist: Brotherhood gets an immense amount of praise in the MAL community, is the #1 ranked show and is constantly referred to as a masterpiece and the greatest show ever created. I've seen many fans preach about how \"it lives up to the hype\" and \"can never receive too much praise\". Now this is just the opinion of one guy. I'm certainly not the law of the land or anything. However, I personally feel as though calling FMA:B a masterpiece and the champion of all shows is a bit of a stretch. That's not to say that I didn't enjoy it or that it\\nisn't a very solid addition to the r...  \n",
       "3  Overview:\\nFMA Brotherhood is an anime that needs no introduction. This is the highest rated anime on all of MAL. This is the anime that the current generation of anime fans holds above all others as the greatest single anime EVER made! In the following paragraphs, I will be reviewing this legendary series and discussing whether or not it truly deserves this title.\\nSPOILERS for both Brotherhood and 2003 FMA!!!!\\nPlot:\\nThe plot takes place in the country of Armestris, which is basically like an alternate WW2 Germany. It is constantly at war for reasons that are less than just and is ruled...  \n",
       "4  Since I couldn't find any legitimate objective analysis in any of these fanboy reviews, I decided put my own review:\\nHere's why FMA:B and it's Manga counterpart don't work:\\nIt's just a disjointed piece of art. The initial premise of the narrative: two young siblings that horrifically lose their mother and parts of themselves is incredibly dark and powerfully poignant. Their journey to find the philosophers stone is one that's objectively adventurous but the endpoint is still inherently adult and sophisticatedly gritty; especially as it delves into the implications of bringing a dead pers...  "
      ]
     },
     "execution_count": 158,
     "metadata": {},
     "output_type": "execute_result"
    }
   ],
   "source": [
    "reviews.head()"
   ]
  },
  {
   "cell_type": "code",
   "execution_count": 159,
   "metadata": {},
   "outputs": [],
   "source": [
    "reviews[\"Review Date\"] = pd.to_datetime(reviews[\"Review Date\"])"
   ]
  },
  {
   "cell_type": "code",
   "execution_count": 160,
   "metadata": {},
   "outputs": [
    {
     "name": "stdout",
     "output_type": "stream",
     "text": [
      "total reviews: 85953\n",
      "unique animes: 4315\n",
      "unique users: 35118\n",
      "review date from 2006-11-07 00:00:00 - 2020-11-16 00:00:00\n"
     ]
    }
   ],
   "source": [
    "print(f\"total reviews: {len(reviews)}\")\n",
    "print(f\"unique animes: {reviews['Anime Title'].nunique()}\")\n",
    "print(f\"unique users: {reviews['Username'].nunique()}\")\n",
    "print(f\"review date from {reviews['Review Date'].min()} - {reviews['Review Date'].max()}\")"
   ]
  },
  {
   "cell_type": "code",
   "execution_count": 161,
   "metadata": {},
   "outputs": [
    {
     "data": {
      "image/png": "[encoded data removed]",
      "text/plain": [
       "<Figure size 432x288 with 1 Axes>"
      ]
     },
     "metadata": {
      "needs_background": "light"
     },
     "output_type": "display_data"
    }
   ],
   "source": [
    "# overall rating distribution\n",
    "_ = reviews[\"Overall Rating\"].plot.hist()\n",
    "_ = plt.title(\"Overall rating distribution\")"
   ]
  },
  {
   "cell_type": "code",
   "execution_count": 162,
   "metadata": {},
   "outputs": [],
   "source": [
    "# review word length\n",
    "reviews[\"review_total_words\"] = reviews[\"Review\"].apply(lambda x: len(x.split(\" \")))"
   ]
  },
  {
   "cell_type": "code",
   "execution_count": 163,
   "metadata": {},
   "outputs": [
    {
     "data": {
      "image/png": "[encoded data removed]",
      "text/plain": [
       "<Figure size 432x288 with 1 Axes>"
      ]
     },
     "metadata": {
      "needs_background": "light"
     },
     "output_type": "display_data"
    }
   ],
   "source": [
    "_ = reviews[\"review_total_words\"].plot.hist()\n",
    "_ = plt.title(\"Review word lengths distribution\")"
   ]
  },
  {
   "cell_type": "code",
   "execution_count": 164,
   "metadata": {},
   "outputs": [
    {
     "data": {
      "text/plain": [
       "count    85953.000000\n",
       "mean       516.838551\n",
       "std        495.528978\n",
       "min          1.000000\n",
       "25%        202.000000\n",
       "50%        372.000000\n",
       "75%        658.000000\n",
       "max      10564.000000\n",
       "Name: review_total_words, dtype: float64"
      ]
     },
     "execution_count": 164,
     "metadata": {},
     "output_type": "execute_result"
    }
   ],
   "source": [
    "reviews[\"review_total_words\"].describe()"
   ]
  },
  {
   "cell_type": "code",
   "execution_count": 165,
   "metadata": {},
   "outputs": [],
   "source": [
    "# review per anime\n",
    "review_per_anime = reviews.groupby(\"Anime Title\")[\"Username\"].count().reset_index()"
   ]
  },
  {
   "cell_type": "code",
   "execution_count": 166,
   "metadata": {},
   "outputs": [
    {
     "data": {
      "image/png": "[encoded data removed]",
      "text/plain": [
       "<Figure size 432x288 with 1 Axes>"
      ]
     },
     "metadata": {
      "needs_background": "light"
     },
     "output_type": "display_data"
    }
   ],
   "source": [
    "_ = review_per_anime[\"Username\"].plot.hist()\n",
    "_ = plt.title(\"Review count per anime distribution\")"
   ]
  },
  {
   "cell_type": "markdown",
   "metadata": {},
   "source": [
    "# Train model"
   ]
  },
  {
   "cell_type": "code",
   "execution_count": 167,
   "metadata": {},
   "outputs": [
    {
     "data": {
      "text/html": [],
      "text/plain": [
       "<IPython.core.display.HTML object>"
      ]
     },
     "metadata": {},
     "output_type": "display_data"
    },
    {
     "name": "stderr",
     "output_type": "stream",
     "text": [
      "/opt/conda/lib/python3.7/site-packages/numpy/core/_asarray.py:83: VisibleDeprecationWarning: Creating an ndarray from ragged nested sequences (which is a list-or-tuple of lists-or-tuples-or ndarrays with different lengths or shapes) is deprecated. If you meant to do this, you must specify 'dtype=object' when creating the ndarray\n",
      "  return array(a, dtype, copy=False, order=order)\n"
     ]
    }
   ],
   "source": [
    "dls = TextDataLoaders.from_df(reviews,text_col=\"Review\",label_col=\"Overall Rating\")"
   ]
  },
  {
   "cell_type": "code",
   "execution_count": 168,
   "metadata": {},
   "outputs": [
    {
     "data": {
      "text/html": [
       "<table border=\"1\" class=\"dataframe\">\n",
       "  <thead>\n",
       "    <tr style=\"text-align: right;\">\n",
       "      <th></th>\n",
       "      <th>text</th>\n",
       "      <th>category</th>\n",
       "    </tr>\n",
       "  </thead>\n",
       "  <tbody>\n",
       "    <tr>\n",
       "      <th>0</th>\n",
       "      <td>xxbos * english is xxup not my first language ! xxmaj review / analysis / rant will be edited … eventually ! * \\n \" it 's like watching two kids playing with their favourite action figurines , yelling at each other why one is so much better than the other , while someone presses every other minute the pause - button , and holds them still for about five to ten minutes - this goes on and on for fifty hours or so , straight ! \" \\n - xxmaj xxunk , after 50 episodes of xxup dbz \\n xxmaj first of all , let me tell you a little story , about how i ended up losing 100 hours of my life , into this … anime . xxmaj first of all , i never saw this anime when i was a \\n kid , so … no</td>\n",
       "      <td>1</td>\n",
       "    </tr>\n",
       "    <tr>\n",
       "      <th>1</th>\n",
       "      <td>xxbos xxup this xxup review xxup has xxup mild xxup spoilers xxup for xxup symphogear xxup xv . \\n xxmaj senki xxmaj zesshou xxmaj symphogear the final season , xxup xv . xxmaj if i had to describe this season in one word it would be disappointing . \\n i came into the 5th and final season of xxup xv very excited as the advertisement and teasers made it seem like it would be this amazing new season that broke the norm for xxmaj symphogear and deliver an epically told story . xxmaj with xxmaj miku also having an obvious focus in this season i was really excited because she 's been neglected since season 2 . xxmaj however all my hopes we 're quickly and utterly crushed . xxmaj the hibimiku we were promised and the hibimiku \\n we get were two xxup hugely different things and its the</td>\n",
       "      <td>7</td>\n",
       "    </tr>\n",
       "    <tr>\n",
       "      <th>2</th>\n",
       "      <td>xxbos xxmaj for decades , glorious xxmaj nippon has been growing closer to extinction . xxmaj to cure xxmaj nippon through the limitless power of anime , our lord and savior xxmaj trigger has blessed us with xxmaj darling in the franxx ! xxmaj but to our surprise , this anime was touched by xxmaj satan himself , xxup a-1 xxmaj pictures , and its true purpose was to accelerate the extinction ! ! \\n ( long spoiler - filled review ahead . xxmaj spoiler - free xxup tl;dr at the end . ) \\n xxmaj with the declining birthrate in xxmaj japan , people are living longer , but fewer babies are being born ; there are n’t enough young people to take care of the elderly . xxmaj the xxmaj japanese government is spending more money on health care , the workforce is shrinking with less young \\n</td>\n",
       "      <td>1</td>\n",
       "    </tr>\n",
       "    <tr>\n",
       "      <th>3</th>\n",
       "      <td>xxbos xxmaj it ’s xxmaj august 1st , 1 xxrep 3 9 ! \\n xxmaj on this day exactly 20 years ago , these were the words spoken by an 11-year - old boy after discovering at his home in xxmaj odaiba during his summer vacation that … well , i do n’t want to spoil anyone here . xxmaj it ’s been exactly 2 full decades since that odd snowy summer day when 7 children were sucked by a giant wave into an unknown world where they would meet some small , strange talking creatures that claimed had been waiting for them for a long time and would live together the most important journey of their lives , kicking off the story of the 1st series of a franchise \\n that , despite never reaching the levels of popularity of its most direct “ rival ” ( that only</td>\n",
       "      <td>9</td>\n",
       "    </tr>\n",
       "    <tr>\n",
       "      <th>4</th>\n",
       "      <td>xxbos xxup warning : xxmaj this review contains spoilers for xxmaj darling in the xxmaj francisco , not that i would recommend you to watch it anyway . \\n xxmaj oh boy … xxmaj if there was a show in these last couple of months that people could n't shut the fuck up about , whether they were bashing or praising , it was definitely xxmaj darling in the franxx , an original \" mecha \" anime made by xxmaj trigger , a studio i like , and xxup a-1 xxmaj pictures , a studio xxmaj i 'm not a really big fan of . xxup i , for one , was definitely interested in xxmaj darling in the franxx when they announced it , the premise seemed interesting , i liked the character designs that were shown , the mechas \\n are n't xxup cgi for a change and</td>\n",
       "      <td>3</td>\n",
       "    </tr>\n",
       "    <tr>\n",
       "      <th>5</th>\n",
       "      <td>xxbos xxmaj hibike ! xxmaj euphonium : xxmaj wholehearted xxmaj sincerity \\n xxup will xxup probably xxup revise xxup after i xxup finish xxup my xxup rewatch \\n * * spoiler xxup alert – xxup this “ review ” xxup will xxup contain xxup major xxup spoilers * * \\n * * this “ review ” serves to cover both the first and second seasons of the series . * * \\n * * this “ review , ” as always , is permanently incomplete and from time to time i may edit and update my thoughts on it . * * \\n * * once again , i have no real apparent structure to my “ reviews , ” as they are all primarily stream of consciousness xxunk . * * \\n i have always been slightly biased against xxmaj kyoto xxmaj animation , and aside from xxmaj clannad</td>\n",
       "      <td>8</td>\n",
       "    </tr>\n",
       "    <tr>\n",
       "      <th>6</th>\n",
       "      <td>xxbos xxmaj they say it ’s a waste to live in the past , clinging to people you once knew and dreams you ’ve outgrown . xxmaj to live in the moment , and make plans for your future , are the cornerstones of responsibility , and you can never truly grow until you embrace them . xxmaj but what if the past xxup is your only hope for a future ? xxmaj what if the only person who ever loved you was a brief acquaintance from your childhood ? xxmaj what if the promise to reunite as adults , bound by a common goal that will ensure their love will one day last forever ? xxmaj it ’s easy to find the idea of someone \\n devoting their adult lives to such a fleeting moment of happiness laughable , at least until you meet xxmaj keitaro xxmaj urashima ,</td>\n",
       "      <td>1</td>\n",
       "    </tr>\n",
       "    <tr>\n",
       "      <th>7</th>\n",
       "      <td>xxbos ( this review has been adapted from my blog / reddit thread . xxmaj spoilers ahead ! ) \\n xxmaj roses are red . xxmaj violets are blue . xxmaj mobile xxmaj suit xxmaj gundam : iron - blooded xxmaj orphans makes for a pretty flower , too . \\n xxup story \\n iron - blooded xxmaj orphans ( reduced to this title because it ’s cool as all get out ) centers on a large group of kids who , for one reason or another , have found themselves ditched by society . xxmaj as they get mistreated at the hands of the higher - ups , xxmaj kudelia , the famous leader of the recent xxmaj martian civil - rights movement , arrives at their base , shaking up events on an interplanetary scale . \\n xxmaj from the very beginning , the anime follows this ragtag</td>\n",
       "      <td>6</td>\n",
       "    </tr>\n",
       "    <tr>\n",
       "      <th>8</th>\n",
       "      <td>xxbos xxmaj please note this review is intended to be read by those that have finished watching xxmaj hataraku xxmaj saibou and while care has been taken to minimise story related spoilers there may still be spoilers within character analysis . xxmaj you have been warned . \\n xxmaj based off a popular manga of the same name xxmaj hataraku xxmaj saibou which is also known by its xxmaj english name xxmaj cells xxmaj at xxmaj work is a comedy and shounen genre anime that gives us the rather unique opportunity to see what will happen if the many cells that live within our body were to be given not just the appearances of human beings but also unique \\n personalities of their own and allow us to see the kind of struggles that they go through as they fulfill the various functions that they have been taught within our</td>\n",
       "      <td>10</td>\n",
       "    </tr>\n",
       "  </tbody>\n",
       "</table>"
      ],
      "text/plain": [
       "<IPython.core.display.HTML object>"
      ]
     },
     "metadata": {},
     "output_type": "display_data"
    }
   ],
   "source": [
    "dls.show_batch()"
   ]
  },
  {
   "cell_type": "code",
   "execution_count": 169,
   "metadata": {},
   "outputs": [],
   "source": [
    "learn = text_classifier_learner(dls, AWD_LSTM, drop_mult=0.5, metrics=accuracy)"
   ]
  },
  {
   "cell_type": "code",
   "execution_count": 35,
   "metadata": {},
   "outputs": [
    {
     "data": {
      "text/html": [
       "<table border=\"1\" class=\"dataframe\">\n",
       "  <thead>\n",
       "    <tr style=\"text-align: left;\">\n",
       "      <th>epoch</th>\n",
       "      <th>train_loss</th>\n",
       "      <th>valid_loss</th>\n",
       "      <th>accuracy</th>\n",
       "      <th>time</th>\n",
       "    </tr>\n",
       "  </thead>\n",
       "  <tbody>\n",
       "    <tr>\n",
       "      <td>0</td>\n",
       "      <td>1.802136</td>\n",
       "      <td>1.708778</td>\n",
       "      <td>0.300407</td>\n",
       "      <td>08:42</td>\n",
       "    </tr>\n",
       "  </tbody>\n",
       "</table>"
      ],
      "text/plain": [
       "<IPython.core.display.HTML object>"
      ]
     },
     "metadata": {},
     "output_type": "display_data"
    },
    {
     "data": {
      "text/html": [
       "<table border=\"1\" class=\"dataframe\">\n",
       "  <thead>\n",
       "    <tr style=\"text-align: left;\">\n",
       "      <th>epoch</th>\n",
       "      <th>train_loss</th>\n",
       "      <th>valid_loss</th>\n",
       "      <th>accuracy</th>\n",
       "      <th>time</th>\n",
       "    </tr>\n",
       "  </thead>\n",
       "  <tbody>\n",
       "    <tr>\n",
       "      <td>0</td>\n",
       "      <td>1.345409</td>\n",
       "      <td>1.337939</td>\n",
       "      <td>0.458522</td>\n",
       "      <td>19:14</td>\n",
       "    </tr>\n",
       "    <tr>\n",
       "      <td>1</td>\n",
       "      <td>1.228408</td>\n",
       "      <td>1.183459</td>\n",
       "      <td>0.531821</td>\n",
       "      <td>19:15</td>\n",
       "    </tr>\n",
       "    <tr>\n",
       "      <td>2</td>\n",
       "      <td>1.109021</td>\n",
       "      <td>1.102638</td>\n",
       "      <td>0.561198</td>\n",
       "      <td>19:17</td>\n",
       "    </tr>\n",
       "    <tr>\n",
       "      <td>3</td>\n",
       "      <td>1.051680</td>\n",
       "      <td>1.091666</td>\n",
       "      <td>0.563758</td>\n",
       "      <td>19:17</td>\n",
       "    </tr>\n",
       "  </tbody>\n",
       "</table>"
      ],
      "text/plain": [
       "<IPython.core.display.HTML object>"
      ]
     },
     "metadata": {},
     "output_type": "display_data"
    }
   ],
   "source": [
    "learn.fine_tune(4, 1e-2)"
   ]
  },
  {
   "cell_type": "markdown",
   "metadata": {},
   "source": [
    "# Evaluation"
   ]
  },
  {
   "cell_type": "code",
   "execution_count": 37,
   "metadata": {},
   "outputs": [
    {
     "data": {
      "text/html": [],
      "text/plain": [
       "<IPython.core.display.HTML object>"
      ]
     },
     "metadata": {},
     "output_type": "display_data"
    },
    {
     "data": {
      "text/html": [
       "<table border=\"1\" class=\"dataframe\">\n",
       "  <thead>\n",
       "    <tr style=\"text-align: right;\">\n",
       "      <th></th>\n",
       "      <th>text</th>\n",
       "      <th>category</th>\n",
       "      <th>category_</th>\n",
       "    </tr>\n",
       "  </thead>\n",
       "  <tbody>\n",
       "    <tr>\n",
       "      <th>0</th>\n",
       "      <td>xxbos xxmaj please note this review is intended to be read by those that have finished watching xxmaj rascal xxmaj does xxmaj not xxmaj dream of xxmaj bunny xxmaj girl xxmaj sempai and while care has been taken to minimize story related spoilers there may still be spoilers within character analysis . xxmaj you have been warned . \\n xxmaj based off a popular light novel of the same name xxmaj seishun xxmaj buta xxmaj yarou xxmaj wa xxmaj bunny xxmaj girl xxmaj sempai xxmaj no xxmaj yume xxmaj wo xxmaj minai which is better known by its xxmaj english title xxmaj rascal xxmaj does not xxmaj dream of xxmaj bunny xxmaj girl xxmaj sempai is a romance , comedy , supernatural and school genre anime that gives us the opportunity to see what will happen if a teenage \\n boy who always approached his life with cynicism due to</td>\n",
       "      <td>10</td>\n",
       "      <td>10</td>\n",
       "    </tr>\n",
       "    <tr>\n",
       "      <th>1</th>\n",
       "      <td>xxbos xxmaj the xxmaj quintessential xxmaj quintuplets , go - xxunk no xxmaj hanayome , xxmaj quintuplet xxmaj brides seriously how many names does this anime have gosh … xxmaj anyways , this anime is one of the most hyped anime pre - release along with xxmaj mob xxmaj psycho 100 xxup ii , kaguya - sama : xxmaj love is xxmaj war , xxmaj the xxmaj promised xxmaj neverland and many more . \\n i watched some of the hyped anime when they were still airing and the other anime like kaguya - sama , i left it till it has finished airing . xxmaj the xxmaj quintessential xxmaj quintuplets is one of them . \\n - \\n xxmaj so now , first thoughts . xxmaj after watching the first episode i already came to a general conclusion of what the anime will potentially be like . xxmaj my</td>\n",
       "      <td>8</td>\n",
       "      <td>8</td>\n",
       "    </tr>\n",
       "    <tr>\n",
       "      <th>2</th>\n",
       "      <td>xxbos xxmaj anticipation . \\n xxmaj xxunk , xxunk skin adorns them , the lumbering thud of footsteps echoes louder with each passing second , their eyes set on a village lying dormant up ahead . xxmaj exposed flesh shifting between the woods , no expressed interest for the plant life or animals grazing at their feet . xxmaj warped facial expressions , a thousand - yard stare , distorted features , twisted limbs ; an ungodly creature , a true force of nature . xxmaj deformed giants with one thing in mind . \\n xxmaj beady eyes stare back at the impending danger , irises frantically shifting from each other to the threat slowly approaching with each step , the military xxunk behind stone walls planning their first strike . xxmaj in the dead of \\n silence , every sound amplified . xxmaj every second longer than the last</td>\n",
       "      <td>6</td>\n",
       "      <td>9</td>\n",
       "    </tr>\n",
       "    <tr>\n",
       "      <th>3</th>\n",
       "      <td>xxbos xxmaj black xxmaj bullet refers to the xxmaj varanium bullets used by civil officers , the only bullets capable of bringing down the alien menace that has been plaguing humanity , especially in the xxmaj tokyo xxmaj area . xxmaj the anime bears several similarities to the well - received xxmaj attack on xxmaj titan series , but ultimately fails to deliver with its absurd and forced plot twists , its lack of supporting character development and its failure to offer proper resolution to the main conflict that it proposes . \\n xxup tl;dr \\n xxmaj story : 2 / 10 \\n xxmaj art : 7 / 10 \\n xxmaj sound : 6 / 10 \\n xxmaj character : 5 / 10 \\n xxmaj enjoyment : 6 / 10 \\n xxmaj overall : 5 / 10 ( rounded up from xxunk ) \\n xxmaj good points : \\n +</td>\n",
       "      <td>5</td>\n",
       "      <td>6</td>\n",
       "    </tr>\n",
       "    <tr>\n",
       "      <th>4</th>\n",
       "      <td>xxbos \" cowboy xxmaj bebop is a generally overrated xxmaj anime that now is mostly famous due to its continues element of referencing xxmaj western pop culture , high - quality xxup ost , and well - animated action sequences , however , does n’t offer neither too much in actual substance nor actual characterization worth mentioning in its episodic narrative \" . \\n xxmaj this aforementioned statement has more or less become the popular opinion regarding xxmaj cowboy xxmaj bebop , a highly popular xxmaj anime tv - series , which ’s 1st episode aired in xxmaj april 1998 . xxmaj being part of the \" trio \" with both xxmaj trigun and xxmaj berserk ( excluding the heavily controversial xxmaj evangelion for now ) , it ’s one of the first xxmaj anime - series which did grow a considerable large fanbase in the xxmaj west in \\n</td>\n",
       "      <td>10</td>\n",
       "      <td>10</td>\n",
       "    </tr>\n",
       "    <tr>\n",
       "      <th>5</th>\n",
       "      <td>xxbos xxmaj pokemon the xxmaj series : xxup xy&amp;z xxmaj review ( contains xxup spoilers ) \\n xxmaj it 's not every day , i get to write a xxmaj pokemon review . xxmaj it 's always bittersweet , having a new generation of xxmaj pokemon come to an end . xxmaj in the games department , x and y was absolutely revolutionary for the xxmaj pokemon franchise . xxmaj as for the anime , well … we just came off of the xxmaj black and xxmaj white anime , which is widely considered to be the worst of the xxmaj pokemon anime . xxmaj so x and y had a lot of fixing to do ? xxmaj does it succeed ? xxmaj well , let 's talk about that . \\n xxmaj first off , i do n't know how they keep doing it , but the xxmaj pokemon</td>\n",
       "      <td>9</td>\n",
       "      <td>9</td>\n",
       "    </tr>\n",
       "    <tr>\n",
       "      <th>6</th>\n",
       "      <td>xxbos ( this review has been adapted from my blog / reddit thread . xxmaj spoilers ahead ! ) \\n xxmaj our “ diving ” in the xxmaj xxunk waters was worse than we expected . xxmaj the shanty was rusted and beat up . xxmaj the xxunk masks we used looked like they had n’t been washed in weeks . xxmaj the spot chosen did not let us see anything interesting let alone memorable . \\n xxmaj wanting only to get back on the cruise ship , we headed back its way . xxmaj there , still sitting near the end of the dock , was the lady from before , continuing her chant as though it was her xxmaj god - given destiny . \\n “ xxunk one dolla ’ . xxmaj two bucks for da big one ! ” xxmaj that ’s all she said in her</td>\n",
       "      <td>7</td>\n",
       "      <td>7</td>\n",
       "    </tr>\n",
       "    <tr>\n",
       "      <th>7</th>\n",
       "      <td>xxbos xxmaj we all remember our first love . xxmaj it happened in high xxmaj school for most of us , middle school for a few of us , and much later in life for those of us who were less fortunate . xxmaj it was that shy , awkward time in our lives when our hormones were raging , our need for intimate one - on - one companionship was impossible to ignore , and after putting forth more and more effort until it felt like we were just screaming our ears off into a dark abyss , we finally managed to convince the object of our desires to invest some time in us . xxmaj well , that , or you \\n were the one being persuaded , and you eventually gave in and xxunk , but either way , we finally found somebody that we could call</td>\n",
       "      <td>3</td>\n",
       "      <td>3</td>\n",
       "    </tr>\n",
       "    <tr>\n",
       "      <th>8</th>\n",
       "      <td>xxbos xxmaj critic ’s xxmaj log - xxmaj earthdate : xxmaj december 2 , 2013 . xxmaj review # 75 : xxmaj fullmetal xxmaj alchemist . \\n xxmaj back in my school days , some of my friends were buzzing about this particular anime . i did n’t understand why at the time and i was into xxmaj naruto by then . xxmaj my tastes were kinda picky for some odd reasons . xxmaj this was during my stupid brain - dead teenage years . xxmaj this anime was brought up quite often from some of my friends , but when it came to one of my best friends … it was brought up quite a lot , which is why i am finally going to review this anime phenomenon . xxmaj today is one of my best friends ’ \\n birthday and for obvious reasons , i wo n’t</td>\n",
       "      <td>9</td>\n",
       "      <td>9</td>\n",
       "    </tr>\n",
       "  </tbody>\n",
       "</table>"
      ],
      "text/plain": [
       "<IPython.core.display.HTML object>"
      ]
     },
     "metadata": {},
     "output_type": "display_data"
    }
   ],
   "source": [
    "learn.show_results()"
   ]
  },
  {
   "cell_type": "markdown",
   "metadata": {},
   "source": [
    "Model accuracy"
   ]
  },
  {
   "cell_type": "code",
   "execution_count": 41,
   "metadata": {},
   "outputs": [
    {
     "data": {
      "text/html": [],
      "text/plain": [
       "<IPython.core.display.HTML object>"
      ]
     },
     "metadata": {},
     "output_type": "display_data"
    }
   ],
   "source": [
    "preds, targs = learn.get_preds()"
   ]
  },
  {
   "cell_type": "code",
   "execution_count": 120,
   "metadata": {},
   "outputs": [],
   "source": [
    "model_acc = (torch.argmax(preds,1) == targs).float().mean().item() * 100"
   ]
  },
  {
   "cell_type": "code",
   "execution_count": 121,
   "metadata": {},
   "outputs": [
    {
     "name": "stdout",
     "output_type": "stream",
     "text": [
      "model accuracy: 56.37580156326294\n"
     ]
    }
   ],
   "source": [
    "print(f\"model accuracy: {model_acc}\")"
   ]
  },
  {
   "cell_type": "markdown",
   "metadata": {},
   "source": [
    "Baseline accuracy"
   ]
  },
  {
   "cell_type": "code",
   "execution_count": 85,
   "metadata": {},
   "outputs": [],
   "source": [
    "from collections import Counter\n",
    "most_voted_overall_rating = Counter(dls.train_ds.items[\"Overall Rating\"].values).most_common(1)[0][0]"
   ]
  },
  {
   "cell_type": "code",
   "execution_count": 87,
   "metadata": {},
   "outputs": [
    {
     "name": "stdout",
     "output_type": "stream",
     "text": [
      "most voted overall rating: 8\n"
     ]
    }
   ],
   "source": [
    "print(f\"most voted overall rating: {most_voted_overall_rating}\")"
   ]
  },
  {
   "cell_type": "code",
   "execution_count": 94,
   "metadata": {},
   "outputs": [],
   "source": [
    "naive_baseline_acc = (dls.valid_ds.items[\"Overall Rating\"] == most_voted_overall_rating).mean() * 100"
   ]
  },
  {
   "cell_type": "code",
   "execution_count": 95,
   "metadata": {},
   "outputs": [
    {
     "name": "stdout",
     "output_type": "stream",
     "text": [
      "naive baseline accuracy: 19.85456660849331\n"
     ]
    }
   ],
   "source": [
    "print(f\"naive baseline accuracy: {naive_baseline_acc}\")"
   ]
  },
  {
   "cell_type": "code",
   "execution_count": 124,
   "metadata": {},
   "outputs": [
    {
     "data": {
      "image/png": "[encoded data removed]",
      "text/plain": [
       "<Figure size 432x288 with 1 Axes>"
      ]
     },
     "metadata": {
      "needs_background": "light"
     },
     "output_type": "display_data"
    }
   ],
   "source": [
    "_ = plt.bar(x=['model','baseline'] ,height=[model_acc, naive_baseline_acc])\n",
    "_ = plt.title('Validation accuracy')"
   ]
  },
  {
   "cell_type": "markdown",
   "metadata": {},
   "source": [
    "# Inference"
   ]
  },
  {
   "cell_type": "code",
   "execution_count": 174,
   "metadata": {},
   "outputs": [],
   "source": [
    "def get_learn_pred(txt):\n",
    "    \n",
    "    preds = learn.predict(txt)\n",
    "    return f\"Predicted review rating is {preds[0]}.\""
   ]
  },
  {
   "cell_type": "code",
   "execution_count": 177,
   "metadata": {},
   "outputs": [
    {
     "data": {
      "application/vnd.jupyter.widget-view+json": {
       "model_id": "c5195b9093644efd8e496c26f63b71d8",
       "version_major": 2,
       "version_minor": 0
      },
      "text/plain": [
       "interactive(children=(Text(value='This is genuinely genius. How could the plot got twisted like this! Gonna wa…"
      ]
     },
     "metadata": {},
     "output_type": "display_data"
    }
   ],
   "source": [
    "_  = interact(get_learn_pred, txt=\"This is genuinely genius. How could the plot got twisted like this! Gonna watch two more rounds.\")"
   ]
  },
  {
   "cell_type": "code",
   "execution_count": null,
   "metadata": {},
   "outputs": [],
   "source": []
  }
 ],
 "metadata": {
  "kernelspec": {
   "display_name": "Python 3",
   "language": "python",
   "name": "python3"
  },
  "language_info": {
   "codemirror_mode": {
    "name": "ipython",
    "version": 3
   },
   "file_extension": ".py",
   "mimetype": "text/x-python",
   "name": "python",
   "nbconvert_exporter": "python",
   "pygments_lexer": "ipython3",
   "version": "3.7.3"
  },
  "toc": {
   "base_numbering": 1,
   "nav_menu": {},
   "number_sections": true,
   "sideBar": true,
   "skip_h1_title": false,
   "title_cell": "Table of Contents",
   "title_sidebar": "Contents",
   "toc_cell": false,
   "toc_position": {},
   "toc_section_display": true,
   "toc_window_display": false
  }
 },
 "nbformat": 4,
 "nbformat_minor": 4
}
