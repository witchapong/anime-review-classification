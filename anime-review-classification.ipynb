{
 "cells": [
  {
   "cell_type": "markdown",
   "metadata": {},
   "source": [
    "[![](https://colab.research.google.com/assets/colab-badge.svg)](https://colab.research.google.com/github/witchapong/anime-review-classification/blob/main/anime-review-classification.ipynb)"
   ]
  },
  {
   "cell_type": "code",
   "execution_count": 1,
   "metadata": {
    "_cell_guid": "b1076dfc-b9ad-4769-8c92-a6c4dae69d19",
    "_uuid": "8f2839f25d086af736a60e9eeb907d3b93b6e0e5"
   },
   "outputs": [
    {
     "name": "stdout",
     "output_type": "stream",
     "text": [
      "fastai version: 2.2.5\n"
     ]
    }
   ],
   "source": [
    "import numpy as np\n",
    "import pandas as pd\n",
    "from fastai.text.all import *\n",
    "import fastai\n",
    "print(f\"fastai version: {fastai.__version__}\")\n",
    "import matplotlib.pyplot as plt\n",
    "from ipywidgets import interact\n",
    "from collections import Counter"
   ]
  },
  {
   "cell_type": "markdown",
   "metadata": {},
   "source": [
    "# Objective\n",
    "- Classify review rating of Anime based text review using the dataset [MAL Top 10k Anime](https://www.kaggle.com/stoicstatic/mal-top-10k-anime-details?select=MAL+Anime+Top+10000+Details.csv)\n",
    "- Utilize transfer learning for text classification task using fastai library"
   ]
  },
  {
   "cell_type": "markdown",
   "metadata": {},
   "source": [
    "# Get the data"
   ]
  },
  {
   "cell_type": "markdown",
   "metadata": {},
   "source": [
    "Register an account on [Kaggle](https://www.kaggle.com/) if you don't have one and get your API token. See [Public API](https://www.kaggle.com/docs/api) for the detail. Then uncomment, edit the variables to your credential detail, and run the below command set to fetch the data from Kaggle."
   ]
  },
  {
   "cell_type": "code",
   "execution_count": 2,
   "metadata": {},
   "outputs": [],
   "source": [
    "# !export KAGGLE_USERNAME=datadinosaur\n",
    "# !export KAGGLE_KEY=xxxxxxxxxxxxxx\n",
    "# !pip install kaggle\n",
    "# !kaggle datasets download -d stoicstatic/mal-top-10k-anime-details"
   ]
  },
  {
   "cell_type": "markdown",
   "metadata": {},
   "source": [
    "# Data exploration"
   ]
  },
  {
   "cell_type": "code",
   "execution_count": 3,
   "metadata": {},
   "outputs": [],
   "source": [
    "reviews = pd.read_csv(\"/kaggle/input/mal-top-10k-anime-details/MAL Anime Reviews 85k.csv\")"
   ]
  },
  {
   "cell_type": "code",
   "execution_count": 4,
   "metadata": {},
   "outputs": [
    {
     "data": {
      "text/html": [
       "<div>\n",
       "<style scoped>\n",
       "    .dataframe tbody tr th:only-of-type {\n",
       "        vertical-align: middle;\n",
       "    }\n",
       "\n",
       "    .dataframe tbody tr th {\n",
       "        vertical-align: top;\n",
       "    }\n",
       "\n",
       "    .dataframe thead th {\n",
       "        text-align: right;\n",
       "    }\n",
       "</style>\n",
       "<table border=\"1\" class=\"dataframe\">\n",
       "  <thead>\n",
       "    <tr style=\"text-align: right;\">\n",
       "      <th></th>\n",
       "      <th>Anime Rank</th>\n",
       "      <th>Anime Title</th>\n",
       "      <th>Anime URL</th>\n",
       "      <th>Username</th>\n",
       "      <th>Review Date</th>\n",
       "      <th>Episodes Watched</th>\n",
       "      <th>Review Likes</th>\n",
       "      <th>Overall Rating</th>\n",
       "      <th>Story Rating</th>\n",
       "      <th>Animation Rating</th>\n",
       "      <th>Sound Rating</th>\n",
       "      <th>Character Rating</th>\n",
       "      <th>Enjoyment Rating</th>\n",
       "      <th>Review</th>\n",
       "    </tr>\n",
       "  </thead>\n",
       "  <tbody>\n",
       "    <tr>\n",
       "      <th>0</th>\n",
       "      <td>1</td>\n",
       "      <td>Fullmetal Alchemist: Brotherhood</td>\n",
       "      <td>https://myanimelist.net/anime/5114/Fullmetal_Alchemist__Brotherhood/reviews</td>\n",
       "      <td>tazillo</td>\n",
       "      <td>Jan 25, 2010</td>\n",
       "      <td>64 of 64 episodes seen</td>\n",
       "      <td>3464</td>\n",
       "      <td>10</td>\n",
       "      <td>10</td>\n",
       "      <td>9</td>\n",
       "      <td>9</td>\n",
       "      <td>10</td>\n",
       "      <td>10</td>\n",
       "      <td>First of all, I have seen the original FMA and although it was very popular and original, the pacing and conclusion did not sit too well with me. Brotherhood is meant to be a remake of the original, this time sticking to the manga all the way through, but there were people who thought it would spoil the franchise. That myth should be dispelled, as there's only one word to describe this series - EPIC.\\nI admit that as I've seen the original and read the manga, the pacing of Brotherhood seems to start off being VERY fast (I finally got used to the pacing after\\nwatching the first fifteen eps...</td>\n",
       "    </tr>\n",
       "    <tr>\n",
       "      <th>1</th>\n",
       "      <td>1</td>\n",
       "      <td>Fullmetal Alchemist: Brotherhood</td>\n",
       "      <td>https://myanimelist.net/anime/5114/Fullmetal_Alchemist__Brotherhood/reviews</td>\n",
       "      <td>Archaeon</td>\n",
       "      <td>Nov 15, 2010</td>\n",
       "      <td>64 of 64 episodes seen</td>\n",
       "      <td>1311</td>\n",
       "      <td>9</td>\n",
       "      <td>8</td>\n",
       "      <td>9</td>\n",
       "      <td>9</td>\n",
       "      <td>9</td>\n",
       "      <td>9</td>\n",
       "      <td>Adaptations have long been a thorn in the side of anime viewers, but not because they are inherently bad. No, the main problem has been that many studios have regarded the original work almost as an afterthought, and there are a number of shows that could have been wonderful if the writers had simply stuck to the original story.\\nOne of the issues at hand seems to be ownership as producers, writers and directors all seem to want the work to be reflective of their style and perception, and in order to stamp their mark on a show they will makes numerous unnecessary changes or additions.\\nAdm...</td>\n",
       "    </tr>\n",
       "    <tr>\n",
       "      <th>2</th>\n",
       "      <td>1</td>\n",
       "      <td>Fullmetal Alchemist: Brotherhood</td>\n",
       "      <td>https://myanimelist.net/anime/5114/Fullmetal_Alchemist__Brotherhood/reviews</td>\n",
       "      <td>ChristopherKClaw</td>\n",
       "      <td>Apr 7, 2015</td>\n",
       "      <td>64 of 64 episodes seen</td>\n",
       "      <td>1113</td>\n",
       "      <td>7</td>\n",
       "      <td>8</td>\n",
       "      <td>8</td>\n",
       "      <td>10</td>\n",
       "      <td>6</td>\n",
       "      <td>7</td>\n",
       "      <td>Fullmetal Alchemist: Brotherhood gets an immense amount of praise in the MAL community, is the #1 ranked show and is constantly referred to as a masterpiece and the greatest show ever created. I've seen many fans preach about how \"it lives up to the hype\" and \"can never receive too much praise\". Now this is just the opinion of one guy. I'm certainly not the law of the land or anything. However, I personally feel as though calling FMA:B a masterpiece and the champion of all shows is a bit of a stretch. That's not to say that I didn't enjoy it or that it\\nisn't a very solid addition to the r...</td>\n",
       "    </tr>\n",
       "    <tr>\n",
       "      <th>3</th>\n",
       "      <td>1</td>\n",
       "      <td>Fullmetal Alchemist: Brotherhood</td>\n",
       "      <td>https://myanimelist.net/anime/5114/Fullmetal_Alchemist__Brotherhood/reviews</td>\n",
       "      <td>literaturenerd</td>\n",
       "      <td>Apr 25, 2015</td>\n",
       "      <td>64 of 64 episodes seen</td>\n",
       "      <td>704</td>\n",
       "      <td>7</td>\n",
       "      <td>8</td>\n",
       "      <td>8</td>\n",
       "      <td>8</td>\n",
       "      <td>8</td>\n",
       "      <td>8</td>\n",
       "      <td>Overview:\\nFMA Brotherhood is an anime that needs no introduction. This is the highest rated anime on all of MAL. This is the anime that the current generation of anime fans holds above all others as the greatest single anime EVER made! In the following paragraphs, I will be reviewing this legendary series and discussing whether or not it truly deserves this title.\\nSPOILERS for both Brotherhood and 2003 FMA!!!!\\nPlot:\\nThe plot takes place in the country of Armestris, which is basically like an alternate WW2 Germany. It is constantly at war for reasons that are less than just and is ruled...</td>\n",
       "    </tr>\n",
       "    <tr>\n",
       "      <th>4</th>\n",
       "      <td>1</td>\n",
       "      <td>Fullmetal Alchemist: Brotherhood</td>\n",
       "      <td>https://myanimelist.net/anime/5114/Fullmetal_Alchemist__Brotherhood/reviews</td>\n",
       "      <td>M0nkeyD_Luffy</td>\n",
       "      <td>Jul 29, 2015</td>\n",
       "      <td>64 of 64 episodes seen</td>\n",
       "      <td>446</td>\n",
       "      <td>5</td>\n",
       "      <td>2</td>\n",
       "      <td>7</td>\n",
       "      <td>7</td>\n",
       "      <td>8</td>\n",
       "      <td>5</td>\n",
       "      <td>Since I couldn't find any legitimate objective analysis in any of these fanboy reviews, I decided put my own review:\\nHere's why FMA:B and it's Manga counterpart don't work:\\nIt's just a disjointed piece of art. The initial premise of the narrative: two young siblings that horrifically lose their mother and parts of themselves is incredibly dark and powerfully poignant. Their journey to find the philosophers stone is one that's objectively adventurous but the endpoint is still inherently adult and sophisticatedly gritty; especially as it delves into the implications of bringing a dead pers...</td>\n",
       "    </tr>\n",
       "  </tbody>\n",
       "</table>\n",
       "</div>"
      ],
      "text/plain": [
       "   Anime Rank                       Anime Title  \\\n",
       "0           1  Fullmetal Alchemist: Brotherhood   \n",
       "1           1  Fullmetal Alchemist: Brotherhood   \n",
       "2           1  Fullmetal Alchemist: Brotherhood   \n",
       "3           1  Fullmetal Alchemist: Brotherhood   \n",
       "4           1  Fullmetal Alchemist: Brotherhood   \n",
       "\n",
       "                                                                     Anime URL  \\\n",
       "0  https://myanimelist.net/anime/5114/Fullmetal_Alchemist__Brotherhood/reviews   \n",
       "1  https://myanimelist.net/anime/5114/Fullmetal_Alchemist__Brotherhood/reviews   \n",
       "2  https://myanimelist.net/anime/5114/Fullmetal_Alchemist__Brotherhood/reviews   \n",
       "3  https://myanimelist.net/anime/5114/Fullmetal_Alchemist__Brotherhood/reviews   \n",
       "4  https://myanimelist.net/anime/5114/Fullmetal_Alchemist__Brotherhood/reviews   \n",
       "\n",
       "           Username   Review Date        Episodes Watched  Review Likes  \\\n",
       "0           tazillo  Jan 25, 2010  64 of 64 episodes seen          3464   \n",
       "1          Archaeon  Nov 15, 2010  64 of 64 episodes seen          1311   \n",
       "2  ChristopherKClaw   Apr 7, 2015  64 of 64 episodes seen          1113   \n",
       "3    literaturenerd  Apr 25, 2015  64 of 64 episodes seen           704   \n",
       "4     M0nkeyD_Luffy  Jul 29, 2015  64 of 64 episodes seen           446   \n",
       "\n",
       "   Overall Rating  Story Rating  Animation Rating  Sound Rating  \\\n",
       "0              10            10                 9             9   \n",
       "1               9             8                 9             9   \n",
       "2               7             8                 8            10   \n",
       "3               7             8                 8             8   \n",
       "4               5             2                 7             7   \n",
       "\n",
       "   Character Rating  Enjoyment Rating  \\\n",
       "0                10                10   \n",
       "1                 9                 9   \n",
       "2                 6                 7   \n",
       "3                 8                 8   \n",
       "4                 8                 5   \n",
       "\n",
       "                                                                                                                                                                                                                                                                                                                                                                                                                                                                                                                                                                                                                    Review  \n",
       "0  First of all, I have seen the original FMA and although it was very popular and original, the pacing and conclusion did not sit too well with me. Brotherhood is meant to be a remake of the original, this time sticking to the manga all the way through, but there were people who thought it would spoil the franchise. That myth should be dispelled, as there's only one word to describe this series - EPIC.\\nI admit that as I've seen the original and read the manga, the pacing of Brotherhood seems to start off being VERY fast (I finally got used to the pacing after\\nwatching the first fifteen eps...  \n",
       "1  Adaptations have long been a thorn in the side of anime viewers, but not because they are inherently bad. No, the main problem has been that many studios have regarded the original work almost as an afterthought, and there are a number of shows that could have been wonderful if the writers had simply stuck to the original story.\\nOne of the issues at hand seems to be ownership as producers, writers and directors all seem to want the work to be reflective of their style and perception, and in order to stamp their mark on a show they will makes numerous unnecessary changes or additions.\\nAdm...  \n",
       "2  Fullmetal Alchemist: Brotherhood gets an immense amount of praise in the MAL community, is the #1 ranked show and is constantly referred to as a masterpiece and the greatest show ever created. I've seen many fans preach about how \"it lives up to the hype\" and \"can never receive too much praise\". Now this is just the opinion of one guy. I'm certainly not the law of the land or anything. However, I personally feel as though calling FMA:B a masterpiece and the champion of all shows is a bit of a stretch. That's not to say that I didn't enjoy it or that it\\nisn't a very solid addition to the r...  \n",
       "3  Overview:\\nFMA Brotherhood is an anime that needs no introduction. This is the highest rated anime on all of MAL. This is the anime that the current generation of anime fans holds above all others as the greatest single anime EVER made! In the following paragraphs, I will be reviewing this legendary series and discussing whether or not it truly deserves this title.\\nSPOILERS for both Brotherhood and 2003 FMA!!!!\\nPlot:\\nThe plot takes place in the country of Armestris, which is basically like an alternate WW2 Germany. It is constantly at war for reasons that are less than just and is ruled...  \n",
       "4  Since I couldn't find any legitimate objective analysis in any of these fanboy reviews, I decided put my own review:\\nHere's why FMA:B and it's Manga counterpart don't work:\\nIt's just a disjointed piece of art. The initial premise of the narrative: two young siblings that horrifically lose their mother and parts of themselves is incredibly dark and powerfully poignant. Their journey to find the philosophers stone is one that's objectively adventurous but the endpoint is still inherently adult and sophisticatedly gritty; especially as it delves into the implications of bringing a dead pers...  "
      ]
     },
     "execution_count": 4,
     "metadata": {},
     "output_type": "execute_result"
    }
   ],
   "source": [
    "reviews.head()"
   ]
  },
  {
   "cell_type": "markdown",
   "metadata": {},
   "source": [
    "Convert data type of `Review Date` from string to `datetime` type"
   ]
  },
  {
   "cell_type": "code",
   "execution_count": 5,
   "metadata": {},
   "outputs": [],
   "source": [
    "reviews[\"Review Date\"] = pd.to_datetime(reviews[\"Review Date\"])"
   ]
  },
  {
   "cell_type": "markdown",
   "metadata": {},
   "source": [
    "Check out basic infos about the data"
   ]
  },
  {
   "cell_type": "code",
   "execution_count": 6,
   "metadata": {},
   "outputs": [
    {
     "name": "stdout",
     "output_type": "stream",
     "text": [
      "total reviews: 85953\n",
      "unique animes: 4315\n",
      "unique users: 35118\n",
      "review date from 2006-11-07 00:00:00 - 2020-11-16 00:00:00\n"
     ]
    }
   ],
   "source": [
    "print(f\"total reviews: {len(reviews)}\")\n",
    "print(f\"unique animes: {reviews['Anime Title'].nunique()}\")\n",
    "print(f\"unique users: {reviews['Username'].nunique()}\")\n",
    "print(f\"review date from {reviews['Review Date'].min()} - {reviews['Review Date'].max()}\")"
   ]
  },
  {
   "cell_type": "markdown",
   "metadata": {},
   "source": [
    "Visualize how the distribution of `Overall Rating` as we will use this column as our classification label. We could observe from the plot that the overall rating leans toward high rating score."
   ]
  },
  {
   "cell_type": "code",
   "execution_count": 7,
   "metadata": {},
   "outputs": [
    {
     "data": {
      "image/png": "[encoded data removed]",
      "text/plain": [
       "<Figure size 432x288 with 1 Axes>"
      ]
     },
     "metadata": {
      "needs_background": "light"
     },
     "output_type": "display_data"
    }
   ],
   "source": [
    "# overall rating distribution\n",
    "_ = reviews[\"Overall Rating\"].plot.hist()\n",
    "_ = plt.title(\"Overall rating distribution\")"
   ]
  },
  {
   "cell_type": "markdown",
   "metadata": {},
   "source": [
    "Let's count total words of each review by splitting string using a single white space (`\" \"`) and visualize the distribution. It might be hard to look at the number on the x-axis on the plot as the data is right-skewed and has a long tail (there is a few review with very large total words). We could use the method `describe` on the calculated column `review_total_words` to look at important summary statistics. The median of total words of reviews is 372. We are dealing with pretty lengthy reviews!"
   ]
  },
  {
   "cell_type": "code",
   "execution_count": 8,
   "metadata": {},
   "outputs": [],
   "source": [
    "# review word length\n",
    "reviews[\"review_total_words\"] = reviews[\"Review\"].apply(lambda x: len(x.split(\" \")))"
   ]
  },
  {
   "cell_type": "code",
   "execution_count": 9,
   "metadata": {},
   "outputs": [
    {
     "data": {
      "image/png": "[encoded data removed]",
      "text/plain": [
       "<Figure size 432x288 with 1 Axes>"
      ]
     },
     "metadata": {
      "needs_background": "light"
     },
     "output_type": "display_data"
    }
   ],
   "source": [
    "_ = reviews[\"review_total_words\"].plot.hist()\n",
    "_ = plt.title(\"Review word lengths distribution\")"
   ]
  },
  {
   "cell_type": "code",
   "execution_count": 10,
   "metadata": {},
   "outputs": [
    {
     "data": {
      "text/plain": [
       "count    85953.000000\n",
       "mean       516.838551\n",
       "std        495.528978\n",
       "min          1.000000\n",
       "25%        202.000000\n",
       "50%        372.000000\n",
       "75%        658.000000\n",
       "max      10564.000000\n",
       "Name: review_total_words, dtype: float64"
      ]
     },
     "execution_count": 10,
     "metadata": {},
     "output_type": "execute_result"
    }
   ],
   "source": [
    "reviews[\"review_total_words\"].describe()"
   ]
  },
  {
   "cell_type": "markdown",
   "metadata": {},
   "source": [
    "Let's checkout distribution of total reviews per anime. Could you observe that most of the animes get less than 10 reviews and a few of them get more than 70 reviews?"
   ]
  },
  {
   "cell_type": "code",
   "execution_count": 11,
   "metadata": {},
   "outputs": [],
   "source": [
    "# review per anime\n",
    "review_per_anime = reviews.groupby(\"Anime Title\")[\"Username\"].count().reset_index()"
   ]
  },
  {
   "cell_type": "code",
   "execution_count": 12,
   "metadata": {},
   "outputs": [
    {
     "data": {
      "image/png": "[encoded data removed]",
      "text/plain": [
       "<Figure size 432x288 with 1 Axes>"
      ]
     },
     "metadata": {
      "needs_background": "light"
     },
     "output_type": "display_data"
    }
   ],
   "source": [
    "_ = review_per_anime[\"Username\"].plot.hist()\n",
    "_ = plt.title(\"Review count per anime distribution\")"
   ]
  },
  {
   "cell_type": "markdown",
   "metadata": {},
   "source": [
    "# Train model"
   ]
  },
  {
   "cell_type": "markdown",
   "metadata": {},
   "source": [
    "We'll create fastai `DataLoaders` using the method `from_df` of `TextDataLoader`. With its default parameters, the data will be automatically splitted to training and validation set internally."
   ]
  },
  {
   "cell_type": "code",
   "execution_count": 13,
   "metadata": {},
   "outputs": [
    {
     "data": {
      "text/html": [],
      "text/plain": [
       "<IPython.core.display.HTML object>"
      ]
     },
     "metadata": {},
     "output_type": "display_data"
    },
    {
     "name": "stderr",
     "output_type": "stream",
     "text": [
      "/opt/conda/lib/python3.7/site-packages/numpy/core/_asarray.py:83: VisibleDeprecationWarning: Creating an ndarray from ragged nested sequences (which is a list-or-tuple of lists-or-tuples-or ndarrays with different lengths or shapes) is deprecated. If you meant to do this, you must specify 'dtype=object' when creating the ndarray\n",
      "  return array(a, dtype, copy=False, order=order)\n"
     ]
    }
   ],
   "source": [
    "dls = TextDataLoaders.from_df(reviews,text_col=\"Review\",label_col=\"Overall Rating\")"
   ]
  },
  {
   "cell_type": "code",
   "execution_count": 14,
   "metadata": {},
   "outputs": [
    {
     "data": {
      "text/html": [
       "<table border=\"1\" class=\"dataframe\">\n",
       "  <thead>\n",
       "    <tr style=\"text-align: right;\">\n",
       "      <th></th>\n",
       "      <th>text</th>\n",
       "      <th>category</th>\n",
       "    </tr>\n",
       "  </thead>\n",
       "  <tbody>\n",
       "    <tr>\n",
       "      <th>0</th>\n",
       "      <td>xxbos * english is xxup not my first language ! xxmaj review / analysis / rant will be edited … eventually ! * \\n \" it 's like watching two kids playing with their favourite action figurines , yelling at each other why one is so much better than the other , while someone presses every other minute the pause - button , and holds them still for about five to ten minutes - this goes on and on for fifty hours or so , straight ! \" \\n - xxmaj xxunk , after 50 episodes of xxup dbz \\n xxmaj first of all , let me tell you a little story , about how i ended up losing 100 hours of my life , into this … anime . xxmaj first of all , i never saw this anime when i was a \\n kid , so … no</td>\n",
       "      <td>1</td>\n",
       "    </tr>\n",
       "    <tr>\n",
       "      <th>1</th>\n",
       "      <td>xxbos xxup warning : xxmaj this review contains spoilers for xxmaj last xxmaj exile . \\n xxmaj man , i love steampunk , it 's probably my favorite type of aesthetic in all of fiction ever since i discovered it watching xxmaj laputa : xxmaj castle in the xxmaj sky , then i played xxmaj final xxmaj fantasy xxup vi and it consolidated my love for it . xxmaj unfortunately , there are n't too many good steampunk anime out there , though … xxmaj after watching xxmaj princess xxmaj principal a few years ago , i started to look for more steampunk anime , only to be disappointed by the likes of xxmaj steamboy and xxmaj kabaneri , which looked and sounded really cool , but lacked in every other substantial department . i also watched xxmaj baccano , which was pretty good , \\n but not really the</td>\n",
       "      <td>8</td>\n",
       "    </tr>\n",
       "    <tr>\n",
       "      <th>2</th>\n",
       "      <td>xxbos xxmaj please note this review is intended to be read by those that have finished watching xxmaj record of xxmaj grancrest xxmaj war and while care has been taken to minimise story related spoilers there may still be spoilers within character analysis . xxmaj you have been warned . \\n xxmaj based off a popular light novel of the same name xxmaj record of xxmaj grancrest xxmaj war is an action and fantasy anime that gives us the opportunity to see what will happen if a wandering knight and a powerful but determined mage were to unite their powers and gather like minded individuals to fight against both the rampant chaos that is causing endless wars across \\n the land and the two large power blocks of countries that are taking advantage of the chaos to fight wars against each other . \\n xxmaj but rather than fight for</td>\n",
       "      <td>10</td>\n",
       "    </tr>\n",
       "    <tr>\n",
       "      <th>3</th>\n",
       "      <td>xxbos xxmaj intro \\n xxmaj twin stars ’ exorcist or its official name xxmaj sousei no xxmaj onmyouji is based off the popular manga of the same name and is a direct adaption of it . xxmaj at 50 episodes , long this is one of the longer animes that i have seen recently as most animes these days are not as long as they used to be . xxmaj so far , the longest running animes that i seen since i started watching animes have been at 366 episodes long and xxmaj fairy tail to which the number is probably higher but i have yet to finish that one . xxmaj at 50 episodes , long xxmaj twin suns is around \\n just over two full seasons of 24 episodes each . \\n xxmaj twin star ’s exorcist is an action / fantasy anime with some supernatural elements thrown</td>\n",
       "      <td>9</td>\n",
       "    </tr>\n",
       "    <tr>\n",
       "      <th>4</th>\n",
       "      <td>xxbos xxmaj spoilers and a lot of them . xxmaj read with caution . \\n xxmaj how do you tell a good story ? xxmaj what defines a bad story ? xxmaj who is the audience and what is the message of your story ? xxmaj these are questions an author must face when writing his story – the author must answer all of these questions beforehand in order to tell his story in an understandable way . i believe that every story , no matter what medium or genre it is in , needs a core message – a message that the audience can understand – that is , undoubtedly , what tells a good story from a bad one . \\n xxmaj we ’re all familiar with \\n different stories ; we ’ve read , seen and heard countless of stories ; stories that spark interest and evoke</td>\n",
       "      <td>5</td>\n",
       "    </tr>\n",
       "    <tr>\n",
       "      <th>5</th>\n",
       "      <td>xxbos ( this review has been adapted from my blog / reddit thread . xxmaj spoilers ahead ! ) \\n xxmaj the semicolon gets a bad rap . \\n xxmaj most day - to - day people never use them in today ’s world of simplified , text - driven messages . xxmaj they also look a little funky . ( i mean , let ’s be honest , a period on top of a comma ? xxmaj get out of here . ) xxmaj even xxmaj kurt xxmaj vonnegut , the beloved and creative author of stories such as xxmaj cat ’s xxmaj cradle , is quoted as saying ( with hyperbole and slightly out of context ) , “ all they do is show you ’ve been to college . ” \\n xxmaj he later goes on to say about his rule of never using them that “</td>\n",
       "      <td>3</td>\n",
       "    </tr>\n",
       "    <tr>\n",
       "      <th>6</th>\n",
       "      <td>xxbos ( this review has been adapted from my blog / reddit thread . xxmaj spoilers ahead ! ) \\n xxmaj tales of xxmaj symphonia is one of my favorite gamecube games that i played when i was kid . \\n i do n’t remember it all too well now , having not gone through it for many , many years . xxmaj but i do recall something silly i did with it . \\n i read a strategy guide that stated ( and i had to go online to make sure i was remembering this right because i was n’t ) if i only used xxmaj lloyd ’s wooden blades up until a certain point , i would unlock a special title . xxmaj being unable to pass up on such a sweet deal , despite \\n being well into the game at this point , i erased my</td>\n",
       "      <td>4</td>\n",
       "    </tr>\n",
       "    <tr>\n",
       "      <th>7</th>\n",
       "      <td>xxbos xxmaj durarara ! ! or as i like to call it for fun d xxrep 3 r ! ! is an interesting anime series . xxmaj putting a lot of emphasis into creating its characters and world were losing tons of time becomes a habit when watching the series . xxmaj capturing the chaos and mystery of the city in it ’s version of xxmaj ikebukuro with soaring success . xxmaj while the story being told is decent as a whole what makes it memorable and a great way to spend time are the characters themselves . xxmaj no matter what flaws present themselves , the characters always manage to make it seem like those flaws do n’t matter in the long run . \\n xxmaj mixed : xxmaj interesting story \\n filled with questionable decisions \\n xxmaj durarara ! ! has a headless horseman , a girl with</td>\n",
       "      <td>8</td>\n",
       "    </tr>\n",
       "    <tr>\n",
       "      <th>8</th>\n",
       "      <td>xxbos xxmaj please note this review is intended to be read by those that have finished watching xxup sao xxup xxunk and while care has been taken to minimise story related spoilers there may still be spoilers within character analysis . xxmaj you have been warned . \\n xxmaj the xxmaj rise of xxmaj llenn a university student ’s journey to gain confidence and overcome a personal complex by fighting and facing down fierce opponents as a cute and speedy girl on the bullet - ridden battlefields of xxup ggo xxmaj online . \\n xxmaj based off a popular light novel of the same name xxmaj sword xxmaj art xxmaj online xxmaj alternative xxmaj gun xxmaj gale xxmaj online is a spin off of the popular xxmaj sword xxmaj art xxmaj online media \\n franchise that took the world with storm back in 2009 with the release of its first</td>\n",
       "      <td>10</td>\n",
       "    </tr>\n",
       "  </tbody>\n",
       "</table>"
      ],
      "text/plain": [
       "<IPython.core.display.HTML object>"
      ]
     },
     "metadata": {},
     "output_type": "display_data"
    }
   ],
   "source": [
    "dls.show_batch()"
   ]
  },
  {
   "cell_type": "markdown",
   "metadata": {},
   "source": [
    "Next, we'll create fastai `Learner` using the function `text_classifier_learner`. Here, we'll specify a neural network architect of a pretrained model to be `AWD_LSTM` which is just another variant of a RNN architect. For more information regarding this architecture, visit [AWD-LSTM](https://docs.fast.ai/text.models.awdlstm.html). Finally, we'll train the model using the `fine_tune` method which automatically freeze the rest of the network and only train the last layer (also called the \"head\") for one epoch (by default) and then unfreeze the whole network and train for the specified number of epochs."
   ]
  },
  {
   "cell_type": "code",
   "execution_count": 15,
   "metadata": {},
   "outputs": [
    {
     "data": {
      "text/html": [],
      "text/plain": [
       "<IPython.core.display.HTML object>"
      ]
     },
     "metadata": {},
     "output_type": "display_data"
    }
   ],
   "source": [
    "learn = text_classifier_learner(dls, AWD_LSTM, drop_mult=0.5, metrics=accuracy)"
   ]
  },
  {
   "cell_type": "code",
   "execution_count": 16,
   "metadata": {},
   "outputs": [
    {
     "data": {
      "text/html": [
       "<table border=\"1\" class=\"dataframe\">\n",
       "  <thead>\n",
       "    <tr style=\"text-align: left;\">\n",
       "      <th>epoch</th>\n",
       "      <th>train_loss</th>\n",
       "      <th>valid_loss</th>\n",
       "      <th>accuracy</th>\n",
       "      <th>time</th>\n",
       "    </tr>\n",
       "  </thead>\n",
       "  <tbody>\n",
       "    <tr>\n",
       "      <td>0</td>\n",
       "      <td>1.795568</td>\n",
       "      <td>1.746143</td>\n",
       "      <td>0.293834</td>\n",
       "      <td>08:44</td>\n",
       "    </tr>\n",
       "  </tbody>\n",
       "</table>"
      ],
      "text/plain": [
       "<IPython.core.display.HTML object>"
      ]
     },
     "metadata": {},
     "output_type": "display_data"
    },
    {
     "data": {
      "text/html": [
       "<table border=\"1\" class=\"dataframe\">\n",
       "  <thead>\n",
       "    <tr style=\"text-align: left;\">\n",
       "      <th>epoch</th>\n",
       "      <th>train_loss</th>\n",
       "      <th>valid_loss</th>\n",
       "      <th>accuracy</th>\n",
       "      <th>time</th>\n",
       "    </tr>\n",
       "  </thead>\n",
       "  <tbody>\n",
       "    <tr>\n",
       "      <td>0</td>\n",
       "      <td>1.383687</td>\n",
       "      <td>1.259344</td>\n",
       "      <td>0.489645</td>\n",
       "      <td>19:16</td>\n",
       "    </tr>\n",
       "    <tr>\n",
       "      <td>1</td>\n",
       "      <td>1.250813</td>\n",
       "      <td>1.150077</td>\n",
       "      <td>0.531763</td>\n",
       "      <td>19:18</td>\n",
       "    </tr>\n",
       "    <tr>\n",
       "      <td>2</td>\n",
       "      <td>1.115756</td>\n",
       "      <td>1.101975</td>\n",
       "      <td>0.553287</td>\n",
       "      <td>19:17</td>\n",
       "    </tr>\n",
       "    <tr>\n",
       "      <td>3</td>\n",
       "      <td>1.086331</td>\n",
       "      <td>1.095917</td>\n",
       "      <td>0.559395</td>\n",
       "      <td>19:20</td>\n",
       "    </tr>\n",
       "  </tbody>\n",
       "</table>"
      ],
      "text/plain": [
       "<IPython.core.display.HTML object>"
      ]
     },
     "metadata": {},
     "output_type": "display_data"
    }
   ],
   "source": [
    "learn.fine_tune(4, 1e-2)"
   ]
  },
  {
   "cell_type": "markdown",
   "metadata": {},
   "source": [
    "# Evaluation"
   ]
  },
  {
   "cell_type": "code",
   "execution_count": 17,
   "metadata": {},
   "outputs": [
    {
     "data": {
      "text/html": [],
      "text/plain": [
       "<IPython.core.display.HTML object>"
      ]
     },
     "metadata": {},
     "output_type": "display_data"
    },
    {
     "data": {
      "text/html": [
       "<table border=\"1\" class=\"dataframe\">\n",
       "  <thead>\n",
       "    <tr style=\"text-align: right;\">\n",
       "      <th></th>\n",
       "      <th>text</th>\n",
       "      <th>category</th>\n",
       "      <th>category_</th>\n",
       "    </tr>\n",
       "  </thead>\n",
       "  <tbody>\n",
       "    <tr>\n",
       "      <th>0</th>\n",
       "      <td>xxbos xxmaj please note this review is intended to be read by those that have finished watching xxmaj rascal xxmaj does xxmaj not xxmaj dream of xxmaj bunny xxmaj girl xxmaj sempai and while care has been taken to minimize story related spoilers there may still be spoilers within character analysis . xxmaj you have been warned . \\n xxmaj based off a popular light novel of the same name xxmaj seishun xxmaj buta xxmaj yarou xxmaj wa xxmaj bunny xxmaj girl xxmaj sempai xxmaj no xxmaj yume xxmaj wo xxmaj minai which is better known by its xxmaj english title xxmaj rascal xxmaj does not xxmaj dream of xxmaj bunny xxmaj girl xxmaj sempai is a romance , comedy , supernatural and school genre anime that gives us the opportunity to see what will happen if a teenage \\n boy who always approached his life with cynicism due to</td>\n",
       "      <td>10</td>\n",
       "      <td>10</td>\n",
       "    </tr>\n",
       "    <tr>\n",
       "      <th>1</th>\n",
       "      <td>xxbos xxmaj dragonball z with swords . xxmaj this is how xxmaj i 've seen many people describe xxmaj claymore . \\n xxmaj but the truth is , the only similarity between these two shows is that they are both action packed power - up series ( however , the power - up element in xxmaj claymore is absolutely nothing compared to xxup dbz ) . \\n xxmaj it would be much more accurate to compare xxmaj claymore with xxmaj berserk . xxmaj in 1998 , xxmaj berserk came to define the violent , graphic dark - fantasy genre in anime , and xxmaj claymore took its mantle for the first decade of the 21st century . xxmaj both share many similarities - from medieval - style settings , serious and dark tone to giant swords and plenty of uncensored gore . xxmaj indeed , with \\n its huge count</td>\n",
       "      <td>8</td>\n",
       "      <td>8</td>\n",
       "    </tr>\n",
       "    <tr>\n",
       "      <th>2</th>\n",
       "      <td>xxbos xxmaj this show is cute . \\n i do n't know why it took me three entire seasons to get this , but it 's true . xxmaj the reason why i enjoy this show so much is because it is cute . xxmaj there is no other way to say this . xxmaj the main appeal of this show and the reason why it is so dearly loved by the few who watch it is its cuteness . xxmaj cuteness is its heart , body , and soul ; its very essence . xxmaj cuteness is the bone of its sword . xxmaj adorable is its body and kawaii is its blood . xxmaj every single aspect of this show contributes , has contributed , and shall continue to contribute \\n to its cuteness . xxmaj everything that does n't radiate with cuteness shall be considered a flaw</td>\n",
       "      <td>7</td>\n",
       "      <td>8</td>\n",
       "    </tr>\n",
       "    <tr>\n",
       "      <th>3</th>\n",
       "      <td>xxbos xxmaj i 'll start this review off by saying xxmaj i 'm not really breaking new ground here telling people what they already know , that this show is n't that good . xxmaj so to somewhat be a contrarian for the sake of making myself seem more important , xxmaj i 'll state that i think there are more problems with the show than it just being a bad adaption of a browser game story or being too literal of an adaption of said story and thus displeasing \" mainstream \" anime audience goers in favor of diehard players of the game . i actually think the problems with this show runs much deeper than that . xxmaj well … xxmaj as \\n deep as a show about animu girl warships can be , which is about the depth of a bowl of ramen , but still i</td>\n",
       "      <td>1</td>\n",
       "      <td>4</td>\n",
       "    </tr>\n",
       "    <tr>\n",
       "      <th>4</th>\n",
       "      <td>xxbos ( this has been adapted from my blog / reddit thread . xxmaj spoilers ahead ! ) \\n xxmaj gangsta . makes me , naturally , think of the word “ gangster ” . i am not a gangster myself , much to the surprise of everyone who knows me . xxmaj to be honest , i am not sure where that line is drawn . i like mathematics , but that does not mean a gangster can not like derivatives and xxunk , too . xxmaj the opposite it true as well ; i might not do hard drugs but i certainly love caffeine . \\n i was in a gang once , though not the gruff , cool type . xxmaj our gang was called “ the xxmaj five xxmaj musketeers ” . xxmaj it was me and my four best friends in \\n elementary school .</td>\n",
       "      <td>6</td>\n",
       "      <td>6</td>\n",
       "    </tr>\n",
       "    <tr>\n",
       "      <th>5</th>\n",
       "      <td>xxbos [ this review covers all seasons of xxmaj ojamajo xxmaj doremi , meant as an extensive coverage of the series ] \\n xxmaj passion . a compelling desire towards something ; something you can talk about countless times , watch / read / experience day in and day out , and have strong opinions to justify why you ’d ever feel passionate talking about it . xxmaj good or bad , everyone has a series they ’re passionate to talk about ; ranging from various genres of literature , media , and art . xxmaj with enough research or conversation , it ’s practically unavoidable for someone , or yourself , to bring up a topic that sparks a fire of emotions and or controversies within them / yourself . xxmaj it could also be quite a challenge to \\n regulate what series is determined to be a favorite</td>\n",
       "      <td>10</td>\n",
       "      <td>10</td>\n",
       "    </tr>\n",
       "    <tr>\n",
       "      <th>6</th>\n",
       "      <td>xxbos xxmaj pokémon the xxmaj series : xxup xy&amp;z xxmaj review ( contains xxup spoilers ) \\n xxmaj it 's not every day , i get to write a xxmaj pokemon review . xxmaj it 's always bittersweet , having a new generation of xxmaj pokemon come to an end . xxmaj in the games department , x and y was absolutely revolutionary for the xxmaj pokemon franchise . xxmaj as for the anime , well … we just came off of the xxmaj black and xxmaj white anime , which is widely considered to be the worst of the xxmaj pokemon anime . xxmaj so x and y had a lot of fixing to do ? xxmaj does it succeed ? xxmaj well , let 's talk about that . \\n xxmaj first off , i do n't know how they keep doing it , but the xxmaj pokemon</td>\n",
       "      <td>9</td>\n",
       "      <td>9</td>\n",
       "    </tr>\n",
       "    <tr>\n",
       "      <th>7</th>\n",
       "      <td>xxbos \" yes , xxmaj king xxmaj il . xxmaj nobody has said that the princess ' hair is strange . xxmaj but if i may be so bold to say , there is definitely something wrong with her head . \" \\n - xxmaj hak , xxmaj akatsuki no xxmaj yona \\n xxmaj after considering at length how best to begin reviewing xxmaj akatsuki no xxmaj yona ( yona of the xxmaj dawn ) , i decided to quote the series squirrel mascot : \" puk xxup ky xxrep 29 u ~ ! \" \\n i xxup will explain the squirrel hilarity behind \" puk kyu \" , but first of all : xxmaj what - beyond untranslated xxmaj japanese - is xxmaj akatsuki no xxmaj yona ? \\n xxmaj the answer is a period piece with a xxup heavy ancient xxmaj china / xxmaj korea influence , set</td>\n",
       "      <td>8</td>\n",
       "      <td>9</td>\n",
       "    </tr>\n",
       "    <tr>\n",
       "      <th>8</th>\n",
       "      <td>xxbos * spoilers for xxmaj akame ga xxmaj kill * \\n xxmaj akame ga xxmaj kill is an endearing case of stupidity and an inability to take itself seriously when it needs to while taking itself seriously when it should n't . xxmaj it 's far too edgy for its own good , and it 's a riot to indulge in , thanks in no small part to its incompetence , blatant spelling out of already black and white matters , and it 's tonal incoherence … or at least it starts that way . xxmaj it then grows into a more generic and edgy anime that tries and largely fails to wring intended emotions out of us with mostly generic and bad characters , equally badly inserted humor , \\n and improper backstory dumps that are either too early and never reinforced or too late and never reinforced .</td>\n",
       "      <td>4</td>\n",
       "      <td>3</td>\n",
       "    </tr>\n",
       "  </tbody>\n",
       "</table>"
      ],
      "text/plain": [
       "<IPython.core.display.HTML object>"
      ]
     },
     "metadata": {},
     "output_type": "display_data"
    }
   ],
   "source": [
    "learn.show_results()"
   ]
  },
  {
   "cell_type": "markdown",
   "metadata": {},
   "source": [
    "Let's extract the predicted probabilities (or we could say probability distribution of each classes-review rating from 1-10, in this case) and corresponded target for model evaluation."
   ]
  },
  {
   "cell_type": "code",
   "execution_count": 18,
   "metadata": {},
   "outputs": [
    {
     "data": {
      "text/html": [],
      "text/plain": [
       "<IPython.core.display.HTML object>"
      ]
     },
     "metadata": {},
     "output_type": "display_data"
    }
   ],
   "source": [
    "preds, targs = learn.get_preds()"
   ]
  },
  {
   "cell_type": "markdown",
   "metadata": {},
   "source": [
    "**Confusion matrix** : let's plot a confusion matrix to take a closer look whether the model predictions align with the actual rating."
   ]
  },
  {
   "cell_type": "code",
   "execution_count": 28,
   "metadata": {},
   "outputs": [],
   "source": [
    "from fastai.interpret import ClassificationInterpretation"
   ]
  },
  {
   "cell_type": "code",
   "execution_count": 30,
   "metadata": {},
   "outputs": [
    {
     "data": {
      "image/png": "[encoded data removed]",
      "text/plain": [
       "<Figure size 720x720 with 1 Axes>"
      ]
     },
     "metadata": {
      "needs_background": "light"
     },
     "output_type": "display_data"
    }
   ],
   "source": [
    "interp = ClassificationInterpretation.from_learner(learn)\n",
    "interp = interp.plot_confusion_matrix(figsize=(12,12), dpi=60)"
   ]
  },
  {
   "cell_type": "markdown",
   "metadata": {},
   "source": [
    "Here, we compute our model classification accuracy by comparing `argmax` of the predicted probabilities with the target and take the mean."
   ]
  },
  {
   "cell_type": "code",
   "execution_count": 19,
   "metadata": {},
   "outputs": [],
   "source": [
    "model_acc = (torch.argmax(preds,1) == targs).float().mean().item() * 100"
   ]
  },
  {
   "cell_type": "code",
   "execution_count": 20,
   "metadata": {},
   "outputs": [
    {
     "name": "stdout",
     "output_type": "stream",
     "text": [
      "model accuracy: 55.93950152397156\n"
     ]
    }
   ],
   "source": [
    "print(f\"model accuracy: {model_acc}\")"
   ]
  },
  {
   "cell_type": "markdown",
   "metadata": {},
   "source": [
    "We'll compute baseline accuracy using most voted overall rating from the training set to predict validation set review rating."
   ]
  },
  {
   "cell_type": "code",
   "execution_count": 21,
   "metadata": {},
   "outputs": [],
   "source": [
    "most_voted_overall_rating = Counter(dls.train_ds.items[\"Overall Rating\"].values).most_common(1)[0][0]"
   ]
  },
  {
   "cell_type": "code",
   "execution_count": 22,
   "metadata": {},
   "outputs": [
    {
     "name": "stdout",
     "output_type": "stream",
     "text": [
      "most voted overall rating: 8\n"
     ]
    }
   ],
   "source": [
    "print(f\"most voted overall rating: {most_voted_overall_rating}\")"
   ]
  },
  {
   "cell_type": "code",
   "execution_count": 23,
   "metadata": {},
   "outputs": [],
   "source": [
    "naive_baseline_acc = (dls.valid_ds.items[\"Overall Rating\"] == most_voted_overall_rating).mean() * 100"
   ]
  },
  {
   "cell_type": "markdown",
   "metadata": {},
   "source": [
    "Compare accuracies"
   ]
  },
  {
   "cell_type": "code",
   "execution_count": 24,
   "metadata": {},
   "outputs": [
    {
     "name": "stdout",
     "output_type": "stream",
     "text": [
      "naive baseline accuracy: 19.9825479930192\n",
      "naive baseline accuracy: 19.9825479930192\n"
     ]
    }
   ],
   "source": [
    "print(f\"naive baseline accuracy: {naive_baseline_acc}\")\n",
    "print(f\"naive baseline accuracy: {naive_baseline_acc}\")"
   ]
  },
  {
   "cell_type": "code",
   "execution_count": 25,
   "metadata": {},
   "outputs": [
    {
     "data": {
      "image/png": "[encoded data removed]",
      "text/plain": [
       "<Figure size 432x288 with 1 Axes>"
      ]
     },
     "metadata": {
      "needs_background": "light"
     },
     "output_type": "display_data"
    }
   ],
   "source": [
    "_ = plt.bar(x=['model','baseline'] ,height=[model_acc, naive_baseline_acc])\n",
    "_ = plt.title('Validation accuracy')"
   ]
  },
  {
   "cell_type": "markdown",
   "metadata": {},
   "source": [
    "# Inference"
   ]
  },
  {
   "cell_type": "markdown",
   "metadata": {},
   "source": [
    "Finally, let's make a widget for inputing Anime review and outputing an overall rating."
   ]
  },
  {
   "cell_type": "code",
   "execution_count": 26,
   "metadata": {},
   "outputs": [],
   "source": [
    "def get_learn_pred(txt):\n",
    "    \n",
    "    preds = learn.predict(txt)\n",
    "    return f\"Predicted review rating is {preds[0]}.\""
   ]
  },
  {
   "cell_type": "code",
   "execution_count": 27,
   "metadata": {},
   "outputs": [
    {
     "data": {
      "application/vnd.jupyter.widget-view+json": {
       "model_id": "fde224458b564518972681ce4d9582a5",
       "version_major": 2,
       "version_minor": 0
      },
      "text/plain": [
       "interactive(children=(Text(value='This is genuinely genius. How could the plot got twisted like this! Gonna wa…"
      ]
     },
     "metadata": {},
     "output_type": "display_data"
    }
   ],
   "source": [
    "_ = interact(get_learn_pred, txt=\"This is genuinely genius. How could the plot got twisted like this! Gonna watch two more rounds.\")"
   ]
  }
 ],
 "metadata": {
  "kernelspec": {
   "display_name": "Python 3",
   "language": "python",
   "name": "python3"
  },
  "language_info": {
   "codemirror_mode": {
    "name": "ipython",
    "version": 3
   },
   "file_extension": ".py",
   "mimetype": "text/x-python",
   "name": "python",
   "nbconvert_exporter": "python",
   "pygments_lexer": "ipython3",
   "version": "3.7.3"
  },
  "toc": {
   "base_numbering": 1,
   "nav_menu": {},
   "number_sections": true,
   "sideBar": true,
   "skip_h1_title": false,
   "title_cell": "Table of Contents",
   "title_sidebar": "Contents",
   "toc_cell": false,
   "toc_position": {},
   "toc_section_display": true,
   "toc_window_display": false
  }
 },
 "nbformat": 4,
 "nbformat_minor": 4
}
